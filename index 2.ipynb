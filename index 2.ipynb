{
  "cells": [
    {
      "cell_type": "raw",
      "metadata": {},
      "source": [
        "---\n",
        "title: \"Bienvenue sur le site de l'Amitié Pictave\"\n",
        "filters:\n",
        "   - lightbox\n",
        "lightbox:\n",
        "  match: auto\n",
        "  effect: fade\n",
        "  desc-position: right\n",
        "  loop: false\n",
        "---"
      ],
      "id": "a188cd9a"
    },
    {
      "cell_type": "markdown",
      "metadata": {},
      "source": [
        "```{html}\n",
        "<style>\n",
        "  .lightbox-thumbnails > :not(:first-child) {\n",
        "    display: none;\n",
        "  }\n",
        "</style>\n",
        "\n",
        "<script>\n",
        "  document.addEventListener(\"DOMContentLoaded\", function() {\n",
        "    const thumbnails = document.querySelectorAll(\".lightbox-thumbnails > *\");\n",
        "    thumbnails.forEach((thumbnail, index) => {\n",
        "      thumbnail.addEventListener(\"click\", function() {\n",
        "        document.querySelector(\".lightbox-thumbnails > :first-child\").style.display = \"none\";\n",
        "        this.style.display = \"block\";\n",
        "      });\n",
        "    });\n",
        "  });\n",
        "</script>\n",
        "```\n",
        "\n",
        "\n",
        "![](img/Benoit_2.jpg){group=\"gallery\"}\n",
        "![](img/Cales_St_Do_1.jpg){group=\"gallery\"}\n",
        "![](img/Corps_mort.jpg){group=\"gallery\"}\n",
        "![](img/Messerschmitt_1.jpg){group=\"gallery\"}"
      ],
      "id": "cb00de52"
    }
  ],
  "metadata": {
    "kernelspec": {
      "display_name": "Python 3",
      "language": "python",
      "name": "python3"
    }
  },
  "nbformat": 4,
  "nbformat_minor": 5
}